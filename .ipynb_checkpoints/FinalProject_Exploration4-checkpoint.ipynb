{
 "cells": [
  {
   "cell_type": "markdown",
   "metadata": {},
   "source": [
    "# Twitter data collection\n"
   ]
  },
  {
   "cell_type": "code",
   "execution_count": 3,
   "metadata": {
    "collapsed": true
   },
   "outputs": [],
   "source": [
    "import pickle\n",
    "#import os\n",
    "#from collections import Counter\n",
    "#import json\n",
    "#import datetime as dt\n",
    "import twitter\n",
    "import sqlite3\n",
    "import pandas as pd\n",
    "import numpy as np"
   ]
  },
  {
   "cell_type": "code",
   "execution_count": 4,
   "metadata": {
    "collapsed": true
   },
   "outputs": [],
   "source": [
    "Twitter=pickle.load(open('secret_twitter_credentials.pkl','rb'))"
   ]
  },
  {
   "cell_type": "code",
   "execution_count": 5,
   "metadata": {
    "collapsed": true
   },
   "outputs": [],
   "source": [
    "#!pip install twitter"
   ]
  },
  {
   "cell_type": "markdown",
   "metadata": {},
   "source": [
    "## Authorizing an application to access Twitter account data"
   ]
  },
  {
   "cell_type": "code",
   "execution_count": 6,
   "metadata": {
    "collapsed": true
   },
   "outputs": [],
   "source": [
    "auth = twitter.oauth.OAuth(Twitter['Access Token'],\n",
    "                           Twitter['Access Token Secret'],\n",
    "                           Twitter['Consumer Key'],\n",
    "                           Twitter['Consumer Secret'])\n",
    "\n",
    "twitter_api = twitter.Twitter(auth=auth, retry=True)"
   ]
  },
  {
   "cell_type": "markdown",
   "metadata": {},
   "source": [
    "## Collecting results in a sqlite database"
   ]
  },
  {
   "cell_type": "code",
   "execution_count": 7,
   "metadata": {
    "collapsed": true
   },
   "outputs": [],
   "source": [
    "conn = sqlite3.connect('tweets.db')\n",
    "c = conn.cursor()"
   ]
  },
  {
   "cell_type": "code",
   "execution_count": 8,
   "metadata": {},
   "outputs": [
    {
     "ename": "OperationalError",
     "evalue": "table statuses already exists",
     "output_type": "error",
     "traceback": [
      "\u001b[0;31m---------------------------------------------------------------------------\u001b[0m",
      "\u001b[0;31mOperationalError\u001b[0m                          Traceback (most recent call last)",
      "\u001b[0;32m<ipython-input-8-8c79ac3c8708>\u001b[0m in \u001b[0;36m<module>\u001b[0;34m()\u001b[0m\n\u001b[1;32m     21\u001b[0m         \u001b[0muser_id\u001b[0m               \u001b[0mInt\u001b[0m \u001b[0;34m,\u001b[0m\u001b[0;34m\u001b[0m\u001b[0m\n\u001b[1;32m     22\u001b[0m         \u001b[0mPRIMARY\u001b[0m \u001b[0mKEY\u001b[0m \u001b[0;34m(\u001b[0m\u001b[0mid\u001b[0m \u001b[0;34m)\u001b[0m\u001b[0;34m\u001b[0m\u001b[0m\n\u001b[0;32m---> 23\u001b[0;31m         );''')\n\u001b[0m\u001b[1;32m     24\u001b[0m \u001b[0;34m\u001b[0m\u001b[0m\n\u001b[1;32m     25\u001b[0m \u001b[0;31m#------------------------------------------------------------\u001b[0m\u001b[0;34m\u001b[0m\u001b[0;34m\u001b[0m\u001b[0m\n",
      "\u001b[0;31mOperationalError\u001b[0m: table statuses already exists"
     ]
    }
   ],
   "source": [
    "# Create base\n",
    "#------------------------------------------------------------\n",
    "# Table: statuses\n",
    "#------------------------------------------------------------\n",
    "c.execute('''CREATE TABLE statuses(\n",
    "        id                    Int NOT NULL ,\n",
    "        coordinates           Varchar (250) ,\n",
    "        created_at            Varchar (250) ,\n",
    "        favorite_count        Int ,\n",
    "        lang                  Varchar (25) ,\n",
    "        place                 Varchar (2500) ,\n",
    "        scopes                Varchar (2500) ,\n",
    "        retweet_count         Int ,\n",
    "        source                Varchar (2500) ,\n",
    "        txt                   Varchar (250) ,\n",
    "        withheld_in_countries Varchar (250) ,\n",
    "        retweeted_status_id   Int ,\n",
    "        in_reply_to_status_id Int ,\n",
    "        in_reply_to_user_id   Int,\n",
    "        quoted_status_id      Int ,\n",
    "        user_id               Int ,\n",
    "        PRIMARY KEY (id )\n",
    "        );''')\n",
    "\n",
    "#------------------------------------------------------------\n",
    "# Table: users\n",
    "#------------------------------------------------------------\n",
    "c.execute('''CREATE TABLE users(\n",
    "        id                    Int NOT NULL ,\n",
    "        screen_name           Varchar (250) ,\n",
    "        created_at            Varchar (100) ,\n",
    "        description           Varchar (2500) ,\n",
    "        favourites_count      Int ,\n",
    "        followers_count       Int ,\n",
    "        friends_count         Int ,\n",
    "        lang                  Varchar (25) ,\n",
    "        listed_count          Int ,\n",
    "        location              Varchar (250) ,\n",
    "        name                  Varchar (25) ,\n",
    "        statuses_count        Int ,\n",
    "        PRIMARY KEY (id )\n",
    "        );''')\n",
    "\n",
    "#------------------------------------------------------------\n",
    "# Table: mentions\n",
    "#------------------------------------------------------------\n",
    "\n",
    "c.execute('''CREATE TABLE mentions(\n",
    "        status_id Int NOT NULL ,\n",
    "        user_id Int NOT NULL ,\n",
    "        PRIMARY KEY (status_id ,user_id )\n",
    ");''')\n",
    "\n",
    "#------------------------------------------------------------\n",
    "# Table: tags\n",
    "#------------------------------------------------------------\n",
    "\n",
    "c.execute('''CREATE TABLE tags(\n",
    "        status_id Int NOT NULL ,\n",
    "        htg    Varchar (140) NOT NULL ,\n",
    "        PRIMARY KEY (status_id ,htg )\n",
    ");''')"
   ]
  },
  {
   "cell_type": "code",
   "execution_count": 9,
   "metadata": {
    "collapsed": true
   },
   "outputs": [],
   "source": [
    "def add_user(u,c):\n",
    "    #Create the user entity and main attributes\n",
    "    c.execute('''INSERT INTO users(id,screen_name,created_at,description,favourites_count,\n",
    "            followers_count,friends_count,lang,listed_count,\n",
    "            location,name,statuses_count)\n",
    "    VALUES (?,?,?,?,?,?,?,?,?,?,?,?) ''', \n",
    "          (str(u['id']),u['screen_name'],u['created_at'],u['description'],str(u['favourites_count']),\n",
    "            str(u['followers_count']),str(u['friends_count']),u['lang'],str(u['listed_count']),\n",
    "              u['location'],u['name'],str(u['statuses_count'])))"
   ]
  },
  {
   "cell_type": "code",
   "execution_count": 10,
   "metadata": {
    "collapsed": true
   },
   "outputs": [],
   "source": [
    "def add_status(s,c):\n",
    "    #Create the status entity and main attributes\n",
    "    c.execute('''\n",
    "    INSERT INTO \n",
    "        statuses(id,created_at,favorite_count,\n",
    "        lang,retweet_count,source,txt)\n",
    "    VALUES (?, ?,? ,?  ,? ,? ,?)''', (str(s['id']),s['created_at'],str(s['favorite_count']),\n",
    "        s['lang'],\n",
    "        str(s['retweet_count']),\n",
    "        s['source'], \n",
    "        s['text']))\n",
    "    \n",
    "    #Facultative attributes (None if absent)\n",
    "    for k in ['in_reply_to_status_id','place','coordinates','in_reply_to_user_id']:\n",
    "        if s[k] is not None:\n",
    "            v=(k, str(s[k]), str(s['id']))\n",
    "            c.execute('''\n",
    "            UPDATE statuses\n",
    "            SET %s = ?\n",
    "            WHERE id = ?''' % k, (str(s[k]), str(s['id'])))\n",
    "    \n",
    "    #Facultative attributes (not in s if absent)\n",
    "    \n",
    "    for k in ['scopes','withheld_in_countries','quoted_status_id']:\n",
    "        if k in s :\n",
    "            c.execute('''\n",
    "            UPDATE statuses\n",
    "            SET %s=?\n",
    "            WHERE id=?'''% k,(str(s[k]),str(s['id'])))\n",
    "\n",
    "    #Other entities\n",
    "    for k in ['retweeted_status','user']:\n",
    "        if k in s :\n",
    "            c.execute('''\n",
    "                UPDATE statuses\n",
    "                SET %s_id=?\n",
    "                WHERE id=?''' % k, (str(s[k]['id']),str(s['id'])))\n",
    "\n",
    "            \n",
    "            \n",
    "    ###########################################USERS##############################################\n",
    "    if (c.execute(\"SELECT * FROM users WHERE id=?\", (str(s['user']['id']),)).fetchone())==None:\n",
    "        u=twitter_api.users.show(id=str(s['user']['id']))\n",
    "        add_user(u,c)\n",
    "    #else MAJ user\n",
    "\n",
    "    if not s['in_reply_to_user_id']==None:\n",
    "        if (c.execute(\"SELECT * FROM users WHERE id=?\", (str(s['in_reply_to_user_id']),)).fetchone())==None:\n",
    "            u=twitter_api.users.show(id=str(s['in_reply_to_user_id']))\n",
    "            add_user(u,c)\n",
    "        #else MAJ user\n",
    "        \n",
    "    for u in s['entities']['user_mentions']:\n",
    "        if (c.execute('''SELECT * FROM mentions \n",
    "                    WHERE status_id = ? AND user_id = ?''', (str(s['id']),str(u['id']))).fetchone())==None:\n",
    "            #We do not register the multiple mentions of a user in a tweet\n",
    "            c.execute('''INSERT INTO mentions(status_id ,user_id)\n",
    "                        VALUES (?, ?)''', (str(s['id']),str(u['id'])))\n",
    "\n",
    "            if (c.execute('''SELECT * FROM users WHERE id=?''', (str(u['id']),)).fetchone())==None:\n",
    "                u=twitter_api.users.show(id=str(u['id']))\n",
    "                add_user(u,c)       \n",
    "\n",
    "    ################################# HASHTAGS #################################################\n",
    "    for h in s['entities']['hashtags']:\n",
    "        if (c.execute('''SELECT * FROM tags \n",
    "                    WHERE status_id=? AND htg = ?''',(str(s['id']),h['text'].lower())).fetchone())==None:\n",
    "            #Ajouter le htg \n",
    "            c.execute('''INSERT INTO tags(status_id, htg) VALUES (?,?)''',(str(s['id']),h['text'].lower()))"
   ]
  },
  {
   "cell_type": "code",
   "execution_count": 11,
   "metadata": {
    "collapsed": true
   },
   "outputs": [],
   "source": [
    "htgs = ['#egalim','#egalimentation','#EtatsGenerauxdelAlimentation','#EGA']\n",
    "w = [\"états généraux de l'alimentation\"]\n",
    "nb = 100\n",
    "lg='fr'"
   ]
  },
  {
   "cell_type": "code",
   "execution_count": 12,
   "metadata": {
    "collapsed": true
   },
   "outputs": [],
   "source": [
    "###Collection of data\n",
    "req=c.execute('''SELECT id FROM statuses ORDER by id DESC''').fetchone()\n",
    "\n",
    "if req == None:\n",
    "    sid=0\n",
    "else : sid=req[0]\n",
    "    \n",
    "statuses=[]\n",
    "for q in htgs :\n",
    "    l_nw_st=100\n",
    "    s=[]\n",
    "    mid=10**20\n",
    "\n",
    "    while l_nw_st==100:\n",
    "        search_results = twitter_api.search.tweets(q=q, count=nb,  result_type='recent',  since_id=sid, max_id=mid)\n",
    "        nw_st=search_results['statuses']\n",
    "        l_nw_st=len(nw_st)\n",
    "        s.extend(nw_st)\n",
    "        if len(s)>0 : mid=s[-1]['id']-1   \n",
    "    statuses.extend(s)\n"
   ]
  },
  {
   "cell_type": "code",
   "execution_count": 13,
   "metadata": {},
   "outputs": [
    {
     "name": "stdout",
     "output_type": "stream",
     "text": [
      "9\n"
     ]
    }
   ],
   "source": [
    "l_st=len(statuses)\n",
    "print(l_st)"
   ]
  },
  {
   "cell_type": "code",
   "execution_count": 14,
   "metadata": {},
   "outputs": [
    {
     "data": {
      "text/plain": [
       "[('--------------------------------------------CoopdeFrance-------------------------------------------------0--',\n",
       "  '#EGAlim PARTAGEONS NOS POSITIONS !\\nComment soutenir des modes de consommation plus responsables ? https://t.co/BOT4zw4n2X',\n",
       "  ''),\n",
       " ('-------------------------------------------DominiqueFayel------------------------------------------------7--',\n",
       "  'RT @PBTerrenetMedia: #egalim #élevage #lait \\nRelations commerciales \\nLa FNPL veut renverser le sens des négociations \\n➡️ https://t.co/lA8H5…',\n",
       "  ''),\n",
       " ('---------------------------------------------news_rapha--------------------------------------------------1--',\n",
       "  'RT @carmen_etche: Prix justes, contractualisation et alimentation de qualité : ensemble, ça peut fonctionner ! #EGalim https://t.co/VguDKui…',\n",
       "  ''),\n",
       " ('-------------------------------------------PRESSEAGRICOLE------------------------------------------------7--',\n",
       "  'RT @PBTerrenetMedia: #egalim #élevage #lait \\nRelations commerciales \\nLa FNPL veut renverser le sens des négociations \\n➡️ https://t.co/lA8H5…',\n",
       "  ''),\n",
       " ('--------------------------------------------EricBerton6--------------------------------------------------5--',\n",
       "  'RT @MichelDANTIN: Intervention #egalim sur droit #concurrence &amp; organisation des producteurs - des avancées sont en cours à #Bruxelles avec…',\n",
       "  '')]"
      ]
     },
     "execution_count": 14,
     "metadata": {},
     "output_type": "execute_result"
    }
   ],
   "source": [
    "[('{:-^100}'.format(s[\"user\"][\"screen_name\"])+ '-'*5 + str(s['retweet_count'])+ '-'*2,s[\"text\"],'') \n",
    " for s in statuses][:5]"
   ]
  },
  {
   "cell_type": "code",
   "execution_count": 15,
   "metadata": {
    "scrolled": true
   },
   "outputs": [
    {
     "name": "stdout",
     "output_type": "stream",
     "text": [
      "3801    2147    6763    4907\n",
      "3802    2147    6764    4907\n",
      "3803    2148    6767    4908\n",
      "3804    2149    6768    4909\n",
      "3805    2150    6771    4910\n",
      "3806    2150    6774    4911\n",
      "3807    2150    6777    4912\n",
      "3808    2150    6778    4913\n",
      "3809    2150    6779    4913\n"
     ]
    }
   ],
   "source": [
    "for s in statuses:\n",
    "    ls=len(c.execute('''SELECT * FROM statuses''').fetchall())\n",
    "    lu=len(c.execute('''SELECT * FROM users''').fetchall())\n",
    "    lh=len(c.execute('''SELECT * FROM tags''').fetchall())\n",
    "    lm=len(c.execute('''SELECT * FROM mentions''').fetchall())\n",
    "    print (ls,'  ',lu,'  ',lh,'  ',lm)\n",
    "    #########################################STATUSES#############################################\n",
    "    #main status\n",
    "    if (c.execute(\"SELECT * FROM statuses WHERE id=?\", (str(s['id']),)).fetchone())==None:\n",
    "        add_status(s,c)\n",
    "    \n",
    "    #replied status\n",
    "    if s['in_reply_to_status_id'] is not None:\n",
    "        if (c.execute(\"SELECT * FROM statuses WHERE id=?\", (str(s['in_reply_to_status_id']),)).fetchone())==None:\n",
    "            r=twitter_api.statuses.show(id=s['in_reply_to_status_id'])\n",
    "            add_status(r,c)        \n",
    "                                           \n",
    "    #quoted status\n",
    "    if 'quoted_status_id' in s:\n",
    "        if (c.execute(\"SELECT * FROM statuses WHERE id=?\", (str(s['quoted_status_id']),)).fetchone())==None:\n",
    "            q=twitter_api.statuses.show(id=s['quoted_status_id'])\n",
    "            add_status(q,c)\n",
    "\n",
    "     "
   ]
  },
  {
   "cell_type": "code",
   "execution_count": 16,
   "metadata": {},
   "outputs": [
    {
     "name": "stdout",
     "output_type": "stream",
     "text": [
      "3810    2150    6780    4915\n"
     ]
    }
   ],
   "source": [
    "ls=len(c.execute('''SELECT * FROM statuses''').fetchall())\n",
    "lu=len(c.execute('''SELECT * FROM users''').fetchall())\n",
    "lh=len(c.execute('''SELECT * FROM tags''').fetchall())\n",
    "lm=len(c.execute('''SELECT * FROM mentions''').fetchall())\n",
    "print (ls,'  ',lu,'  ',lh,'  ',lm)"
   ]
  },
  {
   "cell_type": "code",
   "execution_count": 17,
   "metadata": {
    "collapsed": true
   },
   "outputs": [],
   "source": [
    "conn.commit()"
   ]
  },
  {
   "cell_type": "code",
   "execution_count": 19,
   "metadata": {},
   "outputs": [],
   "source": [
    "rows=c.execute('''SELECT users.screen_name, statuses.txt \n",
    "                    FROM users, statuses\n",
    "                    WHERE \n",
    "                    statuses.user_id==users.id\n",
    "                    AND users.name = ?''',('EGAlimentation',))"
   ]
  },
  {
   "cell_type": "code",
   "execution_count": 20,
   "metadata": {},
   "outputs": [
    {
     "name": "stdout",
     "output_type": "stream",
     "text": [
      "-----------------------------------------------------EGAlimentation----------------------------------------------------- RT @LaREM_AN: En appui aux #Egalim ➡️ #auditions en Com° aff éco de plus de 20 acteurs de l’alimentation sur la thématique du \"partage de l…\n"
     ]
    }
   ],
   "source": [
    "print('{:-^120}'.format(rows.fetchone()[0]),rows.fetchone()[1])"
   ]
  },
  {
   "cell_type": "markdown",
   "metadata": {
    "collapsed": true
   },
   "source": [
    "## Data exploration"
   ]
  },
  {
   "cell_type": "code",
   "execution_count": 28,
   "metadata": {},
   "outputs": [],
   "source": [
    "rows=c.execute('''SELECT users.screen_name, statuses.txt \n",
    "                    FROM users, statuses\n",
    "                    WHERE statuses.user_id==users.id''').fetchall()"
   ]
  },
  {
   "cell_type": "code",
   "execution_count": 29,
   "metadata": {},
   "outputs": [
    {
     "data": {
      "text/plain": [
       "3809"
      ]
     },
     "execution_count": 29,
     "metadata": {},
     "output_type": "execute_result"
    }
   ],
   "source": [
    "len(rows)"
   ]
  },
  {
   "cell_type": "code",
   "execution_count": 36,
   "metadata": {},
   "outputs": [],
   "source": [
    "list=[[name,status] \n",
    "     for (name,status) in rows]"
   ]
  },
  {
   "cell_type": "code",
   "execution_count": 37,
   "metadata": {},
   "outputs": [
    {
     "data": {
      "text/plain": [
       "[['COSTESLionelEr',\n",
       "  'RT @M_Orphelin: Atelier \"Comment mieux rémunérer les agriculteurs?\" des #EGAlim. Nous travaillons ce matin sur de nouveaux types de contrat…'],\n",
       " ['Edelaloyere',\n",
       "  'RT @alain_cardinaux: #EGalim 66% des prises de parole chez les agriculteurs proviennent de la @fnsea, tous médias confondus (selon @agence_…'],\n",
       " ['ChLambert_FNSEA',\n",
       "  \"Pour partager l'objectif de créer&amp;mieux répartir la valeur dans la chaine alim, échange avec les cadres… https://t.co/YCUYbSeIwo\"],\n",
       " ['ClementineBabo1',\n",
       "  '\"Pourquoi la spirale #déflationniste doit nous interroger ? On ne peut plus avoir tout moins #cher...\" https://t.co/osbDFlpGly'],\n",
       " ['amo_thinktwice',\n",
       "  \"[#EGAlim] Les cinq propositions de l'Agence Bio pour que la France maintienne son autosuffisance en produits bio… https://t.co/LI7OcVosxC\"]]"
      ]
     },
     "execution_count": 37,
     "metadata": {},
     "output_type": "execute_result"
    }
   ],
   "source": [
    "list[:5]"
   ]
  },
  {
   "cell_type": "code",
   "execution_count": 35,
   "metadata": {},
   "outputs": [
    {
     "ename": "SyntaxError",
     "evalue": "invalid syntax (<ipython-input-35-6345032a7155>, line 3)",
     "output_type": "error",
     "traceback": [
      "\u001b[0;36m  File \u001b[0;32m\"<ipython-input-35-6345032a7155>\"\u001b[0;36m, line \u001b[0;32m3\u001b[0m\n\u001b[0;31m    for (name,status) in rows}\u001b[0m\n\u001b[0m      ^\u001b[0m\n\u001b[0;31mSyntaxError\u001b[0m\u001b[0;31m:\u001b[0m invalid syntax\n"
     ]
    }
   ],
   "source": [
    "dict={'name':name,\n",
    "     'status':status \n",
    "     for (name,status) in rows}"
   ]
  }
 ],
 "metadata": {
  "kernelspec": {
   "display_name": "Python 3",
   "language": "python",
   "name": "python3"
  },
  "language_info": {
   "codemirror_mode": {
    "name": "ipython",
    "version": 3
   },
   "file_extension": ".py",
   "mimetype": "text/x-python",
   "name": "python",
   "nbconvert_exporter": "python",
   "pygments_lexer": "ipython3",
   "version": "3.6.1"
  }
 },
 "nbformat": 4,
 "nbformat_minor": 2
}
